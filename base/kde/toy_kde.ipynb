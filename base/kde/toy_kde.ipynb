{
 "cells": [
  {
   "cell_type": "markdown",
   "metadata": {},
   "source": [
    "# Kernel Density Estimator(KDE)"
   ]
  },
  {
   "cell_type": "markdown",
   "metadata": {},
   "source": [
    "使用高斯核函数估计样本的概率分布:\n",
    "$$\n",
    "p(\\mathbf{x})=\\frac{1}{N} \\sum_{n=1}^{N} \\frac{1}{\\left(2 \\pi h^{2}\\right)^{1 / 2}} \\exp \\left\\{-\\frac{\\left\\|\\mathbf{x}-\\mathbf{x}_{n}\\right\\|^{2}}{2 h^{2}}\\right\\}\n",
    "$$"
   ]
  },
  {
   "cell_type": "code",
   "execution_count": 1,
   "metadata": {},
   "outputs": [],
   "source": [
    "import numpy as np\n",
    "from sklearn.neighbors import KernelDensity\n",
    "import matplotlib.pyplot as plt\n",
    "from scipy.stats import multivariate_normal\n",
    "import numpy as np\n",
    "%matplotlib inline \n"
   ]
  },
  {
   "cell_type": "code",
   "execution_count": 2,
   "metadata": {},
   "outputs": [],
   "source": [
    "def gaussian_kernel(x, y, h):\n",
    "    return 1/(2*np.pi*h*h)**0.5 * np.exp(-((x-y)**2).sum(axis=-1)/2/h/h)"
   ]
  },
  {
   "cell_type": "code",
   "execution_count": 3,
   "metadata": {},
   "outputs": [],
   "source": [
    "class NaiveKDE():\n",
    "    def __init__(self, kernel_func=gaussian_kernel, bandwidth=1):\n",
    "        self.kernel_func = kernel_func\n",
    "        self.h = bandwidth\n",
    "\n",
    "    def fit(self, data):\n",
    "        data = np.asarray(data)\n",
    "        assert np.ndim(data) <= 2\n",
    "        if np.ndim(data) == 1:\n",
    "            data = data[:, None]\n",
    "        self.data = data[None, :, :]  # 1 X N X K\n",
    "\n",
    "    def evaluate(self, x):\n",
    "        x = np.asarray(x)\n",
    "        if np.ndim(x) == 1:\n",
    "            x = x[:, None]\n",
    "        assert x.shape[-1] == self.data.shape[-1]\n",
    "        if np.ndim(x) <= 1:\n",
    "            x_num = 1\n",
    "        else:\n",
    "            x_num = x.shape[0]\n",
    "\n",
    "        return ((self.kernel_func(x.reshape(x_num, 1, -1), self.data,\n",
    "                                  self.h))).mean(axis=-1)  # M X 1 X K\n"
   ]
  },
  {
   "cell_type": "code",
   "execution_count": 5,
   "metadata": {},
   "outputs": [
    {
     "data": {
      "image/png": "[encoded data removed]",
      "text/plain": [
       "<Figure size 432x288 with 1 Axes>"
      ]
     },
     "metadata": {
      "needs_background": "light"
     },
     "output_type": "display_data"
    }
   ],
   "source": [
    "def kde_test():\n",
    "    np.random.seed(42)\n",
    "    data = np.random.randn(1000)\n",
    "\n",
    "    kde = NaiveKDE(gaussian_kernel, bandwidth=1)\n",
    "    kde.fit(data)\n",
    "    x = np.arange(-10, 10, step=0.1)\n",
    "    p = kde.evaluate(x)\n",
    "\n",
    "    plt.plot(x, p,lw=2, label='naive kde(h=0.5)')\n",
    "    plt.hist(data, density=True)\n",
    "    gaussian = multivariate_normal(0, 1)\n",
    "    plt.plot(x, gaussian.pdf(x), 'r:', lw=2, label='true')\n",
    "    plt.legend(loc='upper left')\n",
    "    plt.show()\n",
    "kde_test()"
   ]
  },
  {
   "cell_type": "code",
   "execution_count": null,
   "metadata": {},
   "outputs": [],
   "source": []
  }
 ],
 "metadata": {
  "interpreter": {
   "hash": "2f9da2e1b09076f2825b59a07628abeb266fd0f63db1e946e67b3392f52dab0b"
  },
  "kernelspec": {
   "display_name": "Python 3",
   "language": "python",
   "name": "python3"
  },
  "language_info": {
   "codemirror_mode": {
    "name": "ipython",
    "version": 3
   },
   "file_extension": ".py",
   "mimetype": "text/x-python",
   "name": "python",
   "nbconvert_exporter": "python",
   "pygments_lexer": "ipython3",
   "version": "3.8.10"
  }
 },
 "nbformat": 4,
 "nbformat_minor": 2
}
