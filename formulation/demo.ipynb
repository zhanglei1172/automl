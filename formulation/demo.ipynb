{
 "cells": [
  {
   "cell_type": "markdown",
   "source": [
    "# 推导自然梯度下降的多项分布形式（logit为自变量）"
   ],
   "metadata": {}
  },
  {
   "cell_type": "code",
   "execution_count": 1,
   "source": [
    "import sympy\n",
    "import numpy as np\n",
    "sympy.init_printing()"
   ],
   "outputs": [],
   "metadata": {}
  },
  {
   "cell_type": "code",
   "execution_count": 2,
   "source": [
    "theta = [sympy.symbols(f'phi_{i}') for i in range(1, 4)]"
   ],
   "outputs": [],
   "metadata": {}
  },
  {
   "cell_type": "code",
   "execution_count": 3,
   "source": [
    "theta"
   ],
   "outputs": [
    {
     "output_type": "execute_result",
     "data": {
      "text/plain": [
       "[φ₁, φ₂, φ₃]"
      ],
      "image/png": "[encoded data removed]",
      "text/latex": [
       "$\\displaystyle \\left[ \\phi_{1}, \\  \\phi_{2}, \\  \\phi_{3}\\right]$"
      ]
     },
     "metadata": {},
     "execution_count": 3
    }
   ],
   "metadata": {}
  },
  {
   "cell_type": "code",
   "execution_count": 4,
   "source": [
    "exps = [sympy.exp(theta_i) for theta_i in theta]"
   ],
   "outputs": [],
   "metadata": {}
  },
  {
   "cell_type": "code",
   "execution_count": 5,
   "source": [
    "thetas = [exp/sum(exps) for exp in exps]"
   ],
   "outputs": [],
   "metadata": {}
  },
  {
   "cell_type": "code",
   "execution_count": 6,
   "source": [
    "thetas"
   ],
   "outputs": [
    {
     "output_type": "execute_result",
     "data": {
      "text/plain": [
       "⎡       φ₁               φ₂               φ₃      ⎤\n",
       "⎢      ℯ                ℯ                ℯ        ⎥\n",
       "⎢───────────────, ───────────────, ───────────────⎥\n",
       "⎢ φ₁    φ₂    φ₃   φ₁    φ₂    φ₃   φ₁    φ₂    φ₃⎥\n",
       "⎣ℯ   + ℯ   + ℯ    ℯ   + ℯ   + ℯ    ℯ   + ℯ   + ℯ  ⎦"
      ],
      "image/png": "[encoded data removed]",
      "text/latex": [
       "$\\displaystyle \\left[ \\frac{e^{\\phi_{1}}}{e^{\\phi_{1}} + e^{\\phi_{2}} + e^{\\phi_{3}}}, \\  \\frac{e^{\\phi_{2}}}{e^{\\phi_{1}} + e^{\\phi_{2}} + e^{\\phi_{3}}}, \\  \\frac{e^{\\phi_{3}}}{e^{\\phi_{1}} + e^{\\phi_{2}} + e^{\\phi_{3}}}\\right]$"
      ]
     },
     "metadata": {},
     "execution_count": 6
    }
   ],
   "metadata": {}
  },
  {
   "cell_type": "code",
   "execution_count": 7,
   "source": [
    "xs = [sympy.symbols(f'x_{i}') for i in range(1, 4)]"
   ],
   "outputs": [],
   "metadata": {}
  },
  {
   "cell_type": "code",
   "execution_count": 11,
   "source": [
    "ll = sympy.log(thetas[0]**xs[0]*thetas[1]**xs[1]*thetas[2]**xs[2])"
   ],
   "outputs": [],
   "metadata": {}
  },
  {
   "cell_type": "code",
   "execution_count": 21,
   "source": [
    "sympy.diff(ll, theta[2]).simplify()"
   ],
   "outputs": [
    {
     "output_type": "execute_result",
     "data": {
      "text/plain": [
       "      φ₃       φ₃       φ₁       φ₂\n",
       "- x₁⋅ℯ   - x₂⋅ℯ   + x₃⋅ℯ   + x₃⋅ℯ  \n",
       "───────────────────────────────────\n",
       "           φ₁    φ₂    φ₃          \n",
       "          ℯ   + ℯ   + ℯ            "
      ],
      "image/png": "[encoded data removed]",
      "text/latex": [
       "$\\displaystyle \\frac{- x_{1} e^{\\phi_{3}} - x_{2} e^{\\phi_{3}} + x_{3} e^{\\phi_{1}} + x_{3} e^{\\phi_{2}}}{e^{\\phi_{1}} + e^{\\phi_{2}} + e^{\\phi_{3}}}$"
      ]
     },
     "metadata": {},
     "execution_count": 21
    }
   ],
   "metadata": {}
  },
  {
   "cell_type": "markdown",
   "source": [],
   "metadata": {}
  },
  {
   "cell_type": "markdown",
   "source": [
    "$$\\displaystyle \\frac{x_{1} e^{\\phi_{2}} + x_{1} e^{\\phi_{3}} - x_{2} e^{\\phi_{1}} - x_{3} e^{\\phi_{1}}}{e^{\\phi_{1}} + e^{\\phi_{2}} + e^{\\phi_{3}}}$$\n",
    "$$\\displaystyle \\frac{- x_{1} e^{\\phi_{2}} + x_{2} e^{\\phi_{1}} + x_{2} e^{\\phi_{3}} - x_{3} e^{\\phi_{2}}}{e^{\\phi_{1}} + e^{\\phi_{2}} + e^{\\phi_{3}}}$$\n",
    "$$\\displaystyle \\frac{- x_{1} e^{\\phi_{3}} - x_{2} e^{\\phi_{3}} + x_{3} e^{\\phi_{1}} + x_{3} e^{\\phi_{2}}}{e^{\\phi_{1}} + e^{\\phi_{2}} + e^{\\phi_{3}}}$$"
   ],
   "metadata": {}
  },
  {
   "cell_type": "markdown",
   "source": [
    "# 计算信息矩阵"
   ],
   "metadata": {}
  },
  {
   "cell_type": "code",
   "execution_count": 28,
   "source": [
    "-sympy.diff(ll, theta[2], 2).simplify().subs(xs[0], thetas[0]).subs(xs[1], thetas[1]).subs(xs[2], thetas[2]).simplify()\n"
   ],
   "outputs": [
    {
     "output_type": "execute_result",
     "data": {
      "text/plain": [
       "                      ⎛ φ₁    φ₂⎞  φ₃                       \n",
       "                      ⎝ℯ   + ℯ  ⎠⋅ℯ                         \n",
       "────────────────────────────────────────────────────────────\n",
       " 2⋅φ₁    2⋅φ₂    2⋅φ₃      φ₁ + φ₂      φ₁ + φ₃      φ₂ + φ₃\n",
       "ℯ     + ℯ     + ℯ     + 2⋅ℯ        + 2⋅ℯ        + 2⋅ℯ       "
      ],
      "image/png": "[encoded data removed]",
      "text/latex": [
       "$\\displaystyle \\frac{\\left(e^{\\phi_{1}} + e^{\\phi_{2}}\\right) e^{\\phi_{3}}}{e^{2 \\phi_{1}} + e^{2 \\phi_{2}} + e^{2 \\phi_{3}} + 2 e^{\\phi_{1} + \\phi_{2}} + 2 e^{\\phi_{1} + \\phi_{3}} + 2 e^{\\phi_{2} + \\phi_{3}}}$"
      ]
     },
     "metadata": {},
     "execution_count": 28
    }
   ],
   "metadata": {}
  },
  {
   "cell_type": "code",
   "execution_count": 30,
   "source": [
    "-sympy.diff(ll, theta[1], 2).simplify().subs(xs[0], thetas[0]).subs(xs[1], thetas[1]).subs(xs[2], thetas[2]).simplify()\n"
   ],
   "outputs": [
    {
     "output_type": "execute_result",
     "data": {
      "text/plain": [
       "                      ⎛ φ₁    φ₃⎞  φ₂                       \n",
       "                      ⎝ℯ   + ℯ  ⎠⋅ℯ                         \n",
       "────────────────────────────────────────────────────────────\n",
       " 2⋅φ₁    2⋅φ₂    2⋅φ₃      φ₁ + φ₂      φ₁ + φ₃      φ₂ + φ₃\n",
       "ℯ     + ℯ     + ℯ     + 2⋅ℯ        + 2⋅ℯ        + 2⋅ℯ       "
      ],
      "image/png": "[encoded data removed]",
      "text/latex": [
       "$\\displaystyle \\frac{\\left(e^{\\phi_{1}} + e^{\\phi_{3}}\\right) e^{\\phi_{2}}}{e^{2 \\phi_{1}} + e^{2 \\phi_{2}} + e^{2 \\phi_{3}} + 2 e^{\\phi_{1} + \\phi_{2}} + 2 e^{\\phi_{1} + \\phi_{3}} + 2 e^{\\phi_{2} + \\phi_{3}}}$"
      ]
     },
     "metadata": {},
     "execution_count": 30
    }
   ],
   "metadata": {}
  },
  {
   "cell_type": "code",
   "execution_count": 31,
   "source": [
    "-sympy.diff(ll, theta[0], 2).simplify().subs(xs[0], thetas[0]).subs(xs[1], thetas[1]).subs(xs[2], thetas[2]).simplify()"
   ],
   "outputs": [
    {
     "output_type": "execute_result",
     "data": {
      "text/plain": [
       "                      ⎛ φ₂    φ₃⎞  φ₁                       \n",
       "                      ⎝ℯ   + ℯ  ⎠⋅ℯ                         \n",
       "────────────────────────────────────────────────────────────\n",
       " 2⋅φ₁    2⋅φ₂    2⋅φ₃      φ₁ + φ₂      φ₁ + φ₃      φ₂ + φ₃\n",
       "ℯ     + ℯ     + ℯ     + 2⋅ℯ        + 2⋅ℯ        + 2⋅ℯ       "
      ],
      "image/png": "[encoded data removed]",
      "text/latex": [
       "$\\displaystyle \\frac{\\left(e^{\\phi_{2}} + e^{\\phi_{3}}\\right) e^{\\phi_{1}}}{e^{2 \\phi_{1}} + e^{2 \\phi_{2}} + e^{2 \\phi_{3}} + 2 e^{\\phi_{1} + \\phi_{2}} + 2 e^{\\phi_{1} + \\phi_{3}} + 2 e^{\\phi_{2} + \\phi_{3}}}$"
      ]
     },
     "metadata": {},
     "execution_count": 31
    }
   ],
   "metadata": {}
  },
  {
   "cell_type": "markdown",
   "source": [
    "$$\\displaystyle \\frac{\\left(e^{\\phi_{2}} + e^{\\phi_{3}}\\right) e^{\\phi_{1}}}{e^{2 \\phi_{1}} + e^{2 \\phi_{2}} + e^{2 \\phi_{3}} + 2 e^{\\phi_{1} + \\phi_{2}} + 2 e^{\\phi_{1} + \\phi_{3}} + 2 e^{\\phi_{2} + \\phi_{3}}}$$"
   ],
   "metadata": {}
  },
  {
   "cell_type": "markdown",
   "source": [
    "$$\\displaystyle \\frac{\\left(e^{\\phi_{1}} + e^{\\phi_{3}}\\right) e^{\\phi_{2}}}{e^{2 \\phi_{1}} + e^{2 \\phi_{2}} + e^{2 \\phi_{3}} + 2 e^{\\phi_{1} + \\phi_{2}} + 2 e^{\\phi_{1} + \\phi_{3}} + 2 e^{\\phi_{2} + \\phi_{3}}}$$\n"
   ],
   "metadata": {}
  },
  {
   "cell_type": "markdown",
   "source": [],
   "metadata": {}
  },
  {
   "cell_type": "markdown",
   "source": [
    "$$\\displaystyle \\frac{\\left(e^{\\phi_{1}} + e^{\\phi_{2}}\\right) e^{\\phi_{3}}}{e^{2 \\phi_{1}} + e^{2 \\phi_{2}} + e^{2 \\phi_{3}} + 2 e^{\\phi_{1} + \\phi_{2}} + 2 e^{\\phi_{1} + \\phi_{3}} + 2 e^{\\phi_{2} + \\phi_{3}}}$$"
   ],
   "metadata": {}
  },
  {
   "cell_type": "markdown",
   "source": [
    "# 计算 $\\partial_\\theta\\log P_\\theta(x)$"
   ],
   "metadata": {}
  },
  {
   "cell_type": "code",
   "execution_count": 36,
   "source": [
    "sympy.diff(ll, theta[0]).simplify()"
   ],
   "outputs": [
    {
     "output_type": "execute_result",
     "data": {
      "text/plain": [
       "    φ₂       φ₃       φ₁       φ₁\n",
       "x₁⋅ℯ   + x₁⋅ℯ   - x₂⋅ℯ   - x₃⋅ℯ  \n",
       "─────────────────────────────────\n",
       "          φ₁    φ₂    φ₃         \n",
       "         ℯ   + ℯ   + ℯ           "
      ],
      "image/png": "[encoded data removed]",
      "text/latex": [
       "$\\displaystyle \\frac{x_{1} e^{\\phi_{2}} + x_{1} e^{\\phi_{3}} - x_{2} e^{\\phi_{1}} - x_{3} e^{\\phi_{1}}}{e^{\\phi_{1}} + e^{\\phi_{2}} + e^{\\phi_{3}}}$"
      ]
     },
     "metadata": {},
     "execution_count": 36
    }
   ],
   "metadata": {}
  },
  {
   "cell_type": "markdown",
   "source": [
    "$$\\displaystyle \\frac{x_{1} e^{\\phi_{2}} + x_{1} e^{\\phi_{3}} - x_{2} e^{\\phi_{1}} - x_{3} e^{\\phi_{1}}}{e^{\\phi_{1}} + e^{\\phi_{2}} + e^{\\phi_{3}}}$$"
   ],
   "metadata": {}
  },
  {
   "cell_type": "code",
   "execution_count": 40,
   "source": [
    "sympy.diff(ll, theta[1]).simplify()"
   ],
   "outputs": [
    {
     "output_type": "execute_result",
     "data": {
      "text/plain": [
       "      φ₂       φ₁       φ₃       φ₂\n",
       "- x₁⋅ℯ   + x₂⋅ℯ   + x₂⋅ℯ   - x₃⋅ℯ  \n",
       "───────────────────────────────────\n",
       "           φ₁    φ₂    φ₃          \n",
       "          ℯ   + ℯ   + ℯ            "
      ],
      "image/png": "[encoded data removed]",
      "text/latex": [
       "$\\displaystyle \\frac{- x_{1} e^{\\phi_{2}} + x_{2} e^{\\phi_{1}} + x_{2} e^{\\phi_{3}} - x_{3} e^{\\phi_{2}}}{e^{\\phi_{1}} + e^{\\phi_{2}} + e^{\\phi_{3}}}$"
      ]
     },
     "metadata": {},
     "execution_count": 40
    }
   ],
   "metadata": {}
  },
  {
   "cell_type": "markdown",
   "source": [
    "\n",
    "$$\\displaystyle \\frac{- x_{1} e^{\\phi_{2}} + x_{2} e^{\\phi_{1}} + x_{2} e^{\\phi_{3}} - x_{3} e^{\\phi_{2}}}{e^{\\phi_{1}} + e^{\\phi_{2}} + e^{\\phi_{3}}}$$"
   ],
   "metadata": {}
  },
  {
   "cell_type": "code",
   "execution_count": 41,
   "source": [
    "sympy.diff(ll, theta[2]).simplify()"
   ],
   "outputs": [
    {
     "output_type": "execute_result",
     "data": {
      "text/plain": [
       "      φ₃       φ₃       φ₁       φ₂\n",
       "- x₁⋅ℯ   - x₂⋅ℯ   + x₃⋅ℯ   + x₃⋅ℯ  \n",
       "───────────────────────────────────\n",
       "           φ₁    φ₂    φ₃          \n",
       "          ℯ   + ℯ   + ℯ            "
      ],
      "image/png": "[encoded data removed]",
      "text/latex": [
       "$\\displaystyle \\frac{- x_{1} e^{\\phi_{3}} - x_{2} e^{\\phi_{3}} + x_{3} e^{\\phi_{1}} + x_{3} e^{\\phi_{2}}}{e^{\\phi_{1}} + e^{\\phi_{2}} + e^{\\phi_{3}}}$"
      ]
     },
     "metadata": {},
     "execution_count": 41
    }
   ],
   "metadata": {}
  },
  {
   "cell_type": "markdown",
   "source": [
    "$$\\displaystyle \\frac{- x_{1} e^{\\phi_{3}} - x_{2} e^{\\phi_{3}} + x_{3} e^{\\phi_{1}} + x_{3} e^{\\phi_{2}}}{e^{\\phi_{1}} + e^{\\phi_{2}} + e^{\\phi_{3}}}$$\n"
   ],
   "metadata": {}
  },
  {
   "cell_type": "code",
   "execution_count": 35,
   "source": [
    "sympy.diff(ll, theta[0]).simplify()"
   ],
   "outputs": [
    {
     "output_type": "execute_result",
     "data": {
      "text/plain": [
       "    φ₂       φ₃       φ₁       φ₁\n",
       "x₁⋅ℯ   + x₁⋅ℯ   - x₂⋅ℯ   - x₃⋅ℯ  \n",
       "─────────────────────────────────\n",
       "          φ₁    φ₂    φ₃         \n",
       "         ℯ   + ℯ   + ℯ           "
      ],
      "image/png": "[encoded data removed]",
      "text/latex": [
       "$\\displaystyle \\frac{x_{1} e^{\\phi_{2}} + x_{1} e^{\\phi_{3}} - x_{2} e^{\\phi_{1}} - x_{3} e^{\\phi_{1}}}{e^{\\phi_{1}} + e^{\\phi_{2}} + e^{\\phi_{3}}}$"
      ]
     },
     "metadata": {},
     "execution_count": 35
    }
   ],
   "metadata": {}
  },
  {
   "cell_type": "markdown",
   "source": [],
   "metadata": {}
  }
 ],
 "metadata": {
  "orig_nbformat": 4,
  "language_info": {
   "name": "python",
   "version": "3.6.8",
   "mimetype": "text/x-python",
   "codemirror_mode": {
    "name": "ipython",
    "version": 3
   },
   "pygments_lexer": "ipython3",
   "nbconvert_exporter": "python",
   "file_extension": ".py"
  },
  "kernelspec": {
   "name": "python3",
   "display_name": "Python 3.6.8 64-bit ('mini': conda)"
  },
  "interpreter": {
   "hash": "89b5ba9e201bb911cf498c29b017cb0a42f2e83362272f71e25274d9eb689f98"
  }
 },
 "nbformat": 4,
 "nbformat_minor": 2
}